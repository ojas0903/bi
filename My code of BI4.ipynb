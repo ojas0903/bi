{
 "cells": [
  {
   "cell_type": "code",
   "execution_count": 5,
   "id": "52aa6fb8",
   "metadata": {},
   "outputs": [],
   "source": [
    "import pandas as pd\n",
    "import numpy as np\n",
    "import matplotlib.pyplot as plt\n",
    "from sklearn.model_selection import train_test_split\n",
    "from sklearn.metrics import confusion_matrix,classification_report\n",
    "from sklearn.metrics import accuracy_score\n",
    "from sklearn.ensemble import RandomForestClassifier\n"
   ]
  },
  {
   "cell_type": "code",
   "execution_count": 9,
   "id": "bbf6a42d",
   "metadata": {},
   "outputs": [],
   "source": [
    "data=pd.read_csv(\"D:/Rushikesh/BI Datasets/4 genomic_data.csv\")"
   ]
  },
  {
   "cell_type": "code",
   "execution_count": 10,
   "id": "f0ae50a1",
   "metadata": {},
   "outputs": [
    {
     "data": {
      "text/html": [
       "<div>\n",
       "<style scoped>\n",
       "    .dataframe tbody tr th:only-of-type {\n",
       "        vertical-align: middle;\n",
       "    }\n",
       "\n",
       "    .dataframe tbody tr th {\n",
       "        vertical-align: top;\n",
       "    }\n",
       "\n",
       "    .dataframe thead th {\n",
       "        text-align: right;\n",
       "    }\n",
       "</style>\n",
       "<table border=\"1\" class=\"dataframe\">\n",
       "  <thead>\n",
       "    <tr style=\"text-align: right;\">\n",
       "      <th></th>\n",
       "      <th>SNP_A</th>\n",
       "      <th>SNP_B</th>\n",
       "      <th>SSR_B</th>\n",
       "      <th>InDel_C</th>\n",
       "      <th>Non-N_bases</th>\n",
       "      <th>Disease_resistance</th>\n",
       "    </tr>\n",
       "  </thead>\n",
       "  <tbody>\n",
       "    <tr>\n",
       "      <th>0</th>\n",
       "      <td>63551.520826</td>\n",
       "      <td>49064.677121</td>\n",
       "      <td>0.791944</td>\n",
       "      <td>0.700105</td>\n",
       "      <td>1.697098e+07</td>\n",
       "      <td>1</td>\n",
       "    </tr>\n",
       "    <tr>\n",
       "      <th>1</th>\n",
       "      <td>77360.717409</td>\n",
       "      <td>82286.812380</td>\n",
       "      <td>0.551061</td>\n",
       "      <td>0.281225</td>\n",
       "      <td>5.202259e+06</td>\n",
       "      <td>1</td>\n",
       "    </tr>\n",
       "    <tr>\n",
       "      <th>2</th>\n",
       "      <td>68029.360214</td>\n",
       "      <td>70677.516905</td>\n",
       "      <td>1.126331</td>\n",
       "      <td>0.030957</td>\n",
       "      <td>1.821082e+07</td>\n",
       "      <td>0</td>\n",
       "    </tr>\n",
       "    <tr>\n",
       "      <th>3</th>\n",
       "      <td>63225.304189</td>\n",
       "      <td>89519.665579</td>\n",
       "      <td>1.725027</td>\n",
       "      <td>0.428687</td>\n",
       "      <td>1.675132e+07</td>\n",
       "      <td>0</td>\n",
       "    </tr>\n",
       "    <tr>\n",
       "      <th>4</th>\n",
       "      <td>53163.348345</td>\n",
       "      <td>41358.614849</td>\n",
       "      <td>1.270834</td>\n",
       "      <td>0.162112</td>\n",
       "      <td>1.566956e+07</td>\n",
       "      <td>1</td>\n",
       "    </tr>\n",
       "  </tbody>\n",
       "</table>\n",
       "</div>"
      ],
      "text/plain": [
       "          SNP_A         SNP_B     SSR_B   InDel_C   Non-N_bases  \\\n",
       "0  63551.520826  49064.677121  0.791944  0.700105  1.697098e+07   \n",
       "1  77360.717409  82286.812380  0.551061  0.281225  5.202259e+06   \n",
       "2  68029.360214  70677.516905  1.126331  0.030957  1.821082e+07   \n",
       "3  63225.304189  89519.665579  1.725027  0.428687  1.675132e+07   \n",
       "4  53163.348345  41358.614849  1.270834  0.162112  1.566956e+07   \n",
       "\n",
       "   Disease_resistance  \n",
       "0                   1  \n",
       "1                   1  \n",
       "2                   0  \n",
       "3                   0  \n",
       "4                   1  "
      ]
     },
     "execution_count": 10,
     "metadata": {},
     "output_type": "execute_result"
    }
   ],
   "source": [
    "data.head()"
   ]
  },
  {
   "cell_type": "code",
   "execution_count": 11,
   "id": "373a9b9b",
   "metadata": {},
   "outputs": [
    {
     "data": {
      "text/html": [
       "<div>\n",
       "<style scoped>\n",
       "    .dataframe tbody tr th:only-of-type {\n",
       "        vertical-align: middle;\n",
       "    }\n",
       "\n",
       "    .dataframe tbody tr th {\n",
       "        vertical-align: top;\n",
       "    }\n",
       "\n",
       "    .dataframe thead th {\n",
       "        text-align: right;\n",
       "    }\n",
       "</style>\n",
       "<table border=\"1\" class=\"dataframe\">\n",
       "  <thead>\n",
       "    <tr style=\"text-align: right;\">\n",
       "      <th></th>\n",
       "      <th>SNP_A</th>\n",
       "      <th>SNP_B</th>\n",
       "      <th>SSR_B</th>\n",
       "      <th>InDel_C</th>\n",
       "      <th>Non-N_bases</th>\n",
       "      <th>Disease_resistance</th>\n",
       "    </tr>\n",
       "  </thead>\n",
       "  <tbody>\n",
       "    <tr>\n",
       "      <th>16514</th>\n",
       "      <td>62302.003207</td>\n",
       "      <td>109560.017942</td>\n",
       "      <td>0.505123</td>\n",
       "      <td>0.585587</td>\n",
       "      <td>5.177535e+06</td>\n",
       "      <td>0</td>\n",
       "    </tr>\n",
       "    <tr>\n",
       "      <th>16515</th>\n",
       "      <td>88846.440424</td>\n",
       "      <td>117036.839486</td>\n",
       "      <td>1.332936</td>\n",
       "      <td>0.246976</td>\n",
       "      <td>1.088198e+07</td>\n",
       "      <td>0</td>\n",
       "    </tr>\n",
       "    <tr>\n",
       "      <th>16516</th>\n",
       "      <td>42210.213003</td>\n",
       "      <td>127659.895238</td>\n",
       "      <td>0.509949</td>\n",
       "      <td>0.313960</td>\n",
       "      <td>3.366822e+06</td>\n",
       "      <td>1</td>\n",
       "    </tr>\n",
       "    <tr>\n",
       "      <th>16517</th>\n",
       "      <td>77600.843485</td>\n",
       "      <td>110529.376183</td>\n",
       "      <td>0.639436</td>\n",
       "      <td>0.549701</td>\n",
       "      <td>5.668444e+06</td>\n",
       "      <td>1</td>\n",
       "    </tr>\n",
       "    <tr>\n",
       "      <th>16518</th>\n",
       "      <td>100186.000371</td>\n",
       "      <td>117818.061813</td>\n",
       "      <td>0.589866</td>\n",
       "      <td>0.138980</td>\n",
       "      <td>1.426699e+07</td>\n",
       "      <td>1</td>\n",
       "    </tr>\n",
       "  </tbody>\n",
       "</table>\n",
       "</div>"
      ],
      "text/plain": [
       "               SNP_A          SNP_B     SSR_B   InDel_C   Non-N_bases  \\\n",
       "16514   62302.003207  109560.017942  0.505123  0.585587  5.177535e+06   \n",
       "16515   88846.440424  117036.839486  1.332936  0.246976  1.088198e+07   \n",
       "16516   42210.213003  127659.895238  0.509949  0.313960  3.366822e+06   \n",
       "16517   77600.843485  110529.376183  0.639436  0.549701  5.668444e+06   \n",
       "16518  100186.000371  117818.061813  0.589866  0.138980  1.426699e+07   \n",
       "\n",
       "       Disease_resistance  \n",
       "16514                   0  \n",
       "16515                   0  \n",
       "16516                   1  \n",
       "16517                   1  \n",
       "16518                   1  "
      ]
     },
     "execution_count": 11,
     "metadata": {},
     "output_type": "execute_result"
    }
   ],
   "source": [
    "data.tail()"
   ]
  },
  {
   "cell_type": "code",
   "execution_count": 12,
   "id": "a77d6a8f",
   "metadata": {},
   "outputs": [
    {
     "name": "stdout",
     "output_type": "stream",
     "text": [
      "<class 'pandas.core.frame.DataFrame'>\n",
      "RangeIndex: 16519 entries, 0 to 16518\n",
      "Data columns (total 6 columns):\n",
      " #   Column              Non-Null Count  Dtype  \n",
      "---  ------              --------------  -----  \n",
      " 0   SNP_A               16519 non-null  float64\n",
      " 1   SNP_B               16519 non-null  float64\n",
      " 2   SSR_B               16519 non-null  float64\n",
      " 3   InDel_C             16519 non-null  float64\n",
      " 4   Non-N_bases         16519 non-null  float64\n",
      " 5   Disease_resistance  16519 non-null  int64  \n",
      "dtypes: float64(5), int64(1)\n",
      "memory usage: 774.5 KB\n"
     ]
    }
   ],
   "source": [
    "data.info()"
   ]
  },
  {
   "cell_type": "code",
   "execution_count": 13,
   "id": "3d920d14",
   "metadata": {},
   "outputs": [
    {
     "data": {
      "text/html": [
       "<div>\n",
       "<style scoped>\n",
       "    .dataframe tbody tr th:only-of-type {\n",
       "        vertical-align: middle;\n",
       "    }\n",
       "\n",
       "    .dataframe tbody tr th {\n",
       "        vertical-align: top;\n",
       "    }\n",
       "\n",
       "    .dataframe thead th {\n",
       "        text-align: right;\n",
       "    }\n",
       "</style>\n",
       "<table border=\"1\" class=\"dataframe\">\n",
       "  <thead>\n",
       "    <tr style=\"text-align: right;\">\n",
       "      <th></th>\n",
       "      <th>SNP_A</th>\n",
       "      <th>SNP_B</th>\n",
       "      <th>SSR_B</th>\n",
       "      <th>InDel_C</th>\n",
       "      <th>Non-N_bases</th>\n",
       "      <th>Disease_resistance</th>\n",
       "    </tr>\n",
       "  </thead>\n",
       "  <tbody>\n",
       "    <tr>\n",
       "      <th>count</th>\n",
       "      <td>16519.000000</td>\n",
       "      <td>16519.000000</td>\n",
       "      <td>16519.000000</td>\n",
       "      <td>16519.000000</td>\n",
       "      <td>1.651900e+04</td>\n",
       "      <td>16519.000000</td>\n",
       "    </tr>\n",
       "    <tr>\n",
       "      <th>mean</th>\n",
       "      <td>59049.942007</td>\n",
       "      <td>95486.377616</td>\n",
       "      <td>1.149135</td>\n",
       "      <td>0.404939</td>\n",
       "      <td>1.100673e+07</td>\n",
       "      <td>0.490405</td>\n",
       "    </tr>\n",
       "    <tr>\n",
       "      <th>std</th>\n",
       "      <td>24029.569536</td>\n",
       "      <td>35074.351612</td>\n",
       "      <td>0.489767</td>\n",
       "      <td>0.227734</td>\n",
       "      <td>5.218024e+06</td>\n",
       "      <td>0.499923</td>\n",
       "    </tr>\n",
       "    <tr>\n",
       "      <th>min</th>\n",
       "      <td>18006.013320</td>\n",
       "      <td>35027.900823</td>\n",
       "      <td>0.300340</td>\n",
       "      <td>0.010072</td>\n",
       "      <td>2.001058e+06</td>\n",
       "      <td>0.000000</td>\n",
       "    </tr>\n",
       "    <tr>\n",
       "      <th>25%</th>\n",
       "      <td>38326.874758</td>\n",
       "      <td>64916.458871</td>\n",
       "      <td>0.722776</td>\n",
       "      <td>0.206395</td>\n",
       "      <td>6.434717e+06</td>\n",
       "      <td>0.000000</td>\n",
       "    </tr>\n",
       "    <tr>\n",
       "      <th>50%</th>\n",
       "      <td>58715.571548</td>\n",
       "      <td>95876.747078</td>\n",
       "      <td>1.150954</td>\n",
       "      <td>0.405787</td>\n",
       "      <td>1.097983e+07</td>\n",
       "      <td>0.000000</td>\n",
       "    </tr>\n",
       "    <tr>\n",
       "      <th>75%</th>\n",
       "      <td>79976.603933</td>\n",
       "      <td>125858.587741</td>\n",
       "      <td>1.573706</td>\n",
       "      <td>0.602038</td>\n",
       "      <td>1.551757e+07</td>\n",
       "      <td>1.000000</td>\n",
       "    </tr>\n",
       "    <tr>\n",
       "      <th>max</th>\n",
       "      <td>100998.169998</td>\n",
       "      <td>155990.168078</td>\n",
       "      <td>1.999946</td>\n",
       "      <td>0.799959</td>\n",
       "      <td>1.999927e+07</td>\n",
       "      <td>1.000000</td>\n",
       "    </tr>\n",
       "  </tbody>\n",
       "</table>\n",
       "</div>"
      ],
      "text/plain": [
       "               SNP_A          SNP_B         SSR_B       InDel_C   Non-N_bases  \\\n",
       "count   16519.000000   16519.000000  16519.000000  16519.000000  1.651900e+04   \n",
       "mean    59049.942007   95486.377616      1.149135      0.404939  1.100673e+07   \n",
       "std     24029.569536   35074.351612      0.489767      0.227734  5.218024e+06   \n",
       "min     18006.013320   35027.900823      0.300340      0.010072  2.001058e+06   \n",
       "25%     38326.874758   64916.458871      0.722776      0.206395  6.434717e+06   \n",
       "50%     58715.571548   95876.747078      1.150954      0.405787  1.097983e+07   \n",
       "75%     79976.603933  125858.587741      1.573706      0.602038  1.551757e+07   \n",
       "max    100998.169998  155990.168078      1.999946      0.799959  1.999927e+07   \n",
       "\n",
       "       Disease_resistance  \n",
       "count        16519.000000  \n",
       "mean             0.490405  \n",
       "std              0.499923  \n",
       "min              0.000000  \n",
       "25%              0.000000  \n",
       "50%              0.000000  \n",
       "75%              1.000000  \n",
       "max              1.000000  "
      ]
     },
     "execution_count": 13,
     "metadata": {},
     "output_type": "execute_result"
    }
   ],
   "source": [
    "data.describe()"
   ]
  },
  {
   "cell_type": "code",
   "execution_count": 14,
   "id": "c8401daa",
   "metadata": {},
   "outputs": [
    {
     "data": {
      "text/plain": [
       "SNP_A                 0\n",
       "SNP_B                 0\n",
       "SSR_B                 0\n",
       "InDel_C               0\n",
       "Non-N_bases           0\n",
       "Disease_resistance    0\n",
       "dtype: int64"
      ]
     },
     "execution_count": 14,
     "metadata": {},
     "output_type": "execute_result"
    }
   ],
   "source": [
    "data.isnull().sum()"
   ]
  },
  {
   "cell_type": "code",
   "execution_count": 15,
   "id": "287925a8",
   "metadata": {},
   "outputs": [
    {
     "data": {
      "text/plain": [
       "Index(['SNP_A', 'SNP_B', 'SSR_B', 'InDel_C', 'Non-N_bases',\n",
       "       'Disease_resistance'],\n",
       "      dtype='object')"
      ]
     },
     "execution_count": 15,
     "metadata": {},
     "output_type": "execute_result"
    }
   ],
   "source": [
    "data.columns"
   ]
  },
  {
   "cell_type": "code",
   "execution_count": 16,
   "id": "c19eff4f",
   "metadata": {},
   "outputs": [],
   "source": [
    "x = data[['SNP_A', 'SNP_B', 'SSR_B', 'InDel_C', 'Non-N_bases']]\n",
    "y = data[['Disease_resistance']]\n",
    "x_train,x_test,y_train,y_test=train_test_split(x,y,test_size=0.2,random_state = 42)"
   ]
  },
  {
   "cell_type": "code",
   "execution_count": 18,
   "id": "3c6b6ebd",
   "metadata": {},
   "outputs": [
    {
     "name": "stderr",
     "output_type": "stream",
     "text": [
      "C:\\Users\\user\\AppData\\Local\\Temp\\ipykernel_15220\\251184282.py:2: DataConversionWarning: A column-vector y was passed when a 1d array was expected. Please change the shape of y to (n_samples,), for example using ravel().\n",
      "  model.fit(x_train,y_train)\n"
     ]
    },
    {
     "data": {
      "text/html": [
       "<style>#sk-container-id-1 {color: black;background-color: white;}#sk-container-id-1 pre{padding: 0;}#sk-container-id-1 div.sk-toggleable {background-color: white;}#sk-container-id-1 label.sk-toggleable__label {cursor: pointer;display: block;width: 100%;margin-bottom: 0;padding: 0.3em;box-sizing: border-box;text-align: center;}#sk-container-id-1 label.sk-toggleable__label-arrow:before {content: \"▸\";float: left;margin-right: 0.25em;color: #696969;}#sk-container-id-1 label.sk-toggleable__label-arrow:hover:before {color: black;}#sk-container-id-1 div.sk-estimator:hover label.sk-toggleable__label-arrow:before {color: black;}#sk-container-id-1 div.sk-toggleable__content {max-height: 0;max-width: 0;overflow: hidden;text-align: left;background-color: #f0f8ff;}#sk-container-id-1 div.sk-toggleable__content pre {margin: 0.2em;color: black;border-radius: 0.25em;background-color: #f0f8ff;}#sk-container-id-1 input.sk-toggleable__control:checked~div.sk-toggleable__content {max-height: 200px;max-width: 100%;overflow: auto;}#sk-container-id-1 input.sk-toggleable__control:checked~label.sk-toggleable__label-arrow:before {content: \"▾\";}#sk-container-id-1 div.sk-estimator input.sk-toggleable__control:checked~label.sk-toggleable__label {background-color: #d4ebff;}#sk-container-id-1 div.sk-label input.sk-toggleable__control:checked~label.sk-toggleable__label {background-color: #d4ebff;}#sk-container-id-1 input.sk-hidden--visually {border: 0;clip: rect(1px 1px 1px 1px);clip: rect(1px, 1px, 1px, 1px);height: 1px;margin: -1px;overflow: hidden;padding: 0;position: absolute;width: 1px;}#sk-container-id-1 div.sk-estimator {font-family: monospace;background-color: #f0f8ff;border: 1px dotted black;border-radius: 0.25em;box-sizing: border-box;margin-bottom: 0.5em;}#sk-container-id-1 div.sk-estimator:hover {background-color: #d4ebff;}#sk-container-id-1 div.sk-parallel-item::after {content: \"\";width: 100%;border-bottom: 1px solid gray;flex-grow: 1;}#sk-container-id-1 div.sk-label:hover label.sk-toggleable__label {background-color: #d4ebff;}#sk-container-id-1 div.sk-serial::before {content: \"\";position: absolute;border-left: 1px solid gray;box-sizing: border-box;top: 0;bottom: 0;left: 50%;z-index: 0;}#sk-container-id-1 div.sk-serial {display: flex;flex-direction: column;align-items: center;background-color: white;padding-right: 0.2em;padding-left: 0.2em;position: relative;}#sk-container-id-1 div.sk-item {position: relative;z-index: 1;}#sk-container-id-1 div.sk-parallel {display: flex;align-items: stretch;justify-content: center;background-color: white;position: relative;}#sk-container-id-1 div.sk-item::before, #sk-container-id-1 div.sk-parallel-item::before {content: \"\";position: absolute;border-left: 1px solid gray;box-sizing: border-box;top: 0;bottom: 0;left: 50%;z-index: -1;}#sk-container-id-1 div.sk-parallel-item {display: flex;flex-direction: column;z-index: 1;position: relative;background-color: white;}#sk-container-id-1 div.sk-parallel-item:first-child::after {align-self: flex-end;width: 50%;}#sk-container-id-1 div.sk-parallel-item:last-child::after {align-self: flex-start;width: 50%;}#sk-container-id-1 div.sk-parallel-item:only-child::after {width: 0;}#sk-container-id-1 div.sk-dashed-wrapped {border: 1px dashed gray;margin: 0 0.4em 0.5em 0.4em;box-sizing: border-box;padding-bottom: 0.4em;background-color: white;}#sk-container-id-1 div.sk-label label {font-family: monospace;font-weight: bold;display: inline-block;line-height: 1.2em;}#sk-container-id-1 div.sk-label-container {text-align: center;}#sk-container-id-1 div.sk-container {/* jupyter's `normalize.less` sets `[hidden] { display: none; }` but bootstrap.min.css set `[hidden] { display: none !important; }` so we also need the `!important` here to be able to override the default hidden behavior on the sphinx rendered scikit-learn.org. See: https://github.com/scikit-learn/scikit-learn/issues/21755 */display: inline-block !important;position: relative;}#sk-container-id-1 div.sk-text-repr-fallback {display: none;}</style><div id=\"sk-container-id-1\" class=\"sk-top-container\"><div class=\"sk-text-repr-fallback\"><pre>RandomForestClassifier()</pre><b>In a Jupyter environment, please rerun this cell to show the HTML representation or trust the notebook. <br />On GitHub, the HTML representation is unable to render, please try loading this page with nbviewer.org.</b></div><div class=\"sk-container\" hidden><div class=\"sk-item\"><div class=\"sk-estimator sk-toggleable\"><input class=\"sk-toggleable__control sk-hidden--visually\" id=\"sk-estimator-id-1\" type=\"checkbox\" checked><label for=\"sk-estimator-id-1\" class=\"sk-toggleable__label sk-toggleable__label-arrow\">RandomForestClassifier</label><div class=\"sk-toggleable__content\"><pre>RandomForestClassifier()</pre></div></div></div></div></div>"
      ],
      "text/plain": [
       "RandomForestClassifier()"
      ]
     },
     "execution_count": 18,
     "metadata": {},
     "output_type": "execute_result"
    }
   ],
   "source": [
    "model = RandomForestClassifier()\n",
    "model.fit(x_train,y_train)"
   ]
  },
  {
   "cell_type": "code",
   "execution_count": 19,
   "id": "bf2955c7",
   "metadata": {},
   "outputs": [
    {
     "name": "stdout",
     "output_type": "stream",
     "text": [
      "The accuracy of the model is:51.24092009685231%\n"
     ]
    }
   ],
   "source": [
    "y_pred=model.predict(x_test)\n",
    "accuracy=accuracy_score(y_test,y_pred)\n",
    "print(f\"The accuracy of the model is:{accuracy*100}%\")"
   ]
  },
  {
   "cell_type": "code",
   "execution_count": 21,
   "id": "daa74848",
   "metadata": {},
   "outputs": [
    {
     "name": "stdout",
     "output_type": "stream",
     "text": [
      "              precision    recall  f1-score   support\n",
      "\n",
      "           0       0.53      0.56      0.55      1733\n",
      "           1       0.49      0.46      0.47      1571\n",
      "\n",
      "    accuracy                           0.51      3304\n",
      "   macro avg       0.51      0.51      0.51      3304\n",
      "weighted avg       0.51      0.51      0.51      3304\n",
      "\n"
     ]
    }
   ],
   "source": [
    "class_report=classification_report(y_test,y_pred)\n",
    "print(class_report)"
   ]
  },
  {
   "cell_type": "code",
   "execution_count": null,
   "id": "93c6c51d",
   "metadata": {},
   "outputs": [],
   "source": []
  },
  {
   "cell_type": "code",
   "execution_count": null,
   "id": "1fe66348",
   "metadata": {},
   "outputs": [],
   "source": []
  },
  {
   "cell_type": "code",
   "execution_count": null,
   "id": "8f568f03",
   "metadata": {},
   "outputs": [],
   "source": []
  }
 ],
 "metadata": {
  "kernelspec": {
   "display_name": "Python 3 (ipykernel)",
   "language": "python",
   "name": "python3"
  },
  "language_info": {
   "codemirror_mode": {
    "name": "ipython",
    "version": 3
   },
   "file_extension": ".py",
   "mimetype": "text/x-python",
   "name": "python",
   "nbconvert_exporter": "python",
   "pygments_lexer": "ipython3",
   "version": "3.10.9"
  }
 },
 "nbformat": 4,
 "nbformat_minor": 5
}
