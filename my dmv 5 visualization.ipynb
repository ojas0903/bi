{
 "cells": [
  {
   "cell_type": "code",
   "execution_count": null,
   "id": "554b2e5d",
   "metadata": {},
   "outputs": [],
   "source": [
    "import pandas as pd\n",
    "import matplotlib.pyplot as plt\n",
    "import numpy as np\n",
    "import seaborn as sns\n",
    "\n",
    "df = pd.read_csv(\"AQI Data Set.csv\",  parse_dates=['Mounths'])\n",
    "df.head()"
   ]
  },
  {
   "cell_type": "code",
   "execution_count": null,
   "id": "98fe2c42",
   "metadata": {},
   "outputs": [],
   "source": [
    "df.columns"
   ]
  },
  {
   "cell_type": "code",
   "execution_count": null,
   "id": "5976acfb",
   "metadata": {},
   "outputs": [],
   "source": [
    "column_names = ['Id', 'Months', 'PM10', 'SO2', 'NOx',\n",
    "       'PM25', 'NH3', 'O3','CO', ' Benzene', 'AQI']\n",
    "\n",
    "df.columns = column_names\n",
    "df.head()"
   ]
  },
  {
   "cell_type": "code",
   "execution_count": null,
   "id": "0c63a3fb",
   "metadata": {},
   "outputs": [],
   "source": [
    "df.isna().sum()"
   ]
  },
  {
   "cell_type": "code",
   "execution_count": null,
   "id": "21b65bac",
   "metadata": {},
   "outputs": [],
   "source": [
    "df.dropna(inplace=True)\n",
    "df.isna().sum()"
   ]
  },
  {
   "cell_type": "code",
   "execution_count": null,
   "id": "bd217b0c",
   "metadata": {},
   "outputs": [],
   "source": [
    "df.describe()"
   ]
  },
  {
   "cell_type": "code",
   "execution_count": null,
   "id": "cf43a355",
   "metadata": {},
   "outputs": [],
   "source": [
    "plt.figure(figsize=(12, 6))\n",
    "plt.plot(df['Months'], df['AQI'])\n",
    "plt.xlabel('Date')\n",
    "plt.ylabel('AQI')\n",
    "plt.xticks(rotation=75)\n",
    "plt.title('Air Quality Index (AQI) Trend Over Time')\n",
    "plt.show()"
   ]
  },
  {
   "cell_type": "code",
   "execution_count": null,
   "id": "aa6489bb",
   "metadata": {},
   "outputs": [],
   "source": [
    "plt.figure(figsize=(12, 6))\n",
    "plt.plot(df['Months'], df['PM10'], color='red')\n",
    "plt.xlabel('Date')\n",
    "plt.xticks(rotation=75)\n",
    "plt.ylabel('PM10')"
   ]
  },
  {
   "cell_type": "code",
   "execution_count": null,
   "id": "3cf38049",
   "metadata": {},
   "outputs": [],
   "source": [
    "plt.figure(figsize=(12, 6))\n",
    "plt.plot(df['Months'], df['PM25'], color='blue')\n",
    "plt.xlabel('Date')\n",
    "plt.xticks(rotation=75)\n",
    "plt.ylabel('PM2.5')"
   ]
  },
  {
   "cell_type": "code",
   "execution_count": null,
   "id": "55cb00b3",
   "metadata": {},
   "outputs": [],
   "source": [
    "plt.figure(figsize=(12, 6))\n",
    "plt.plot(df['Months'], df['CO'], label='CO', color='orange')\n",
    "plt.xlabel('Date')\n",
    "plt.xticks(rotation=75)\n",
    "plt.ylabel('Carbon Monoxide Levels')"
   ]
  },
  {
   "cell_type": "code",
   "execution_count": null,
   "id": "74f9c838",
   "metadata": {},
   "outputs": [],
   "source": [
    "plt.figure(figsize=(12, 6))\n",
    "plt.plot(df['Months'], df['SO2'], label='SO2', color='violet')\n",
    "plt.xlabel('Date')\n",
    "plt.ylabel('SO2')\n",
    "plt.xticks(rotation=75)\n",
    "plt.show()"
   ]
  },
  {
   "cell_type": "code",
   "execution_count": null,
   "id": "0622c4c9",
   "metadata": {},
   "outputs": [],
   "source": [
    "plt.figure(figsize=(12, 6))\n",
    "plt.plot(df['Months'], df['NOx'], label='NOx', color='purple')\n",
    "plt.xlabel('Date')\n",
    "plt.ylabel('NOx')\n",
    "plt.xticks(rotation=75)\n",
    "plt.show()"
   ]
  },
  {
   "cell_type": "code",
   "execution_count": null,
   "id": "20f01615",
   "metadata": {},
   "outputs": [],
   "source": [
    "plt.figure(figsize=(12, 6))\n",
    "df.boxplot(color='blue')\n",
    "plt.title(\"Distribution of AQI Values for Pollutants\")\n",
    "plt.show()"
   ]
  },
  {
   "cell_type": "code",
   "execution_count": null,
   "id": "61a428ff",
   "metadata": {},
   "outputs": [],
   "source": [
    "plt.figure(figsize=(12, 6))\n",
    "plt.scatter(df[\"AQI\"], df[\"PM25\"], c=\"red\", label=\"PM2.5\")\n",
    "plt.scatter(df[\"AQI\"], df[\"SO2\"], c=\"blue\", label=\"SO2\")\n",
    "plt.scatter(df[\"AQI\"], df[\"O3\"], c=\"green\", label=\"O3\")\n",
    "plt.title(\"Scatter Plot: AQI vs. Pollutant Levels\")\n",
    "plt.xlabel(\"AQI Value\")\n",
    "plt.ylabel(\"Pollutant Level\")\n",
    "plt.legend()\n",
    "plt.grid(True)\n",
    "plt.show()"
   ]
  }
 ],
 "metadata": {
  "kernelspec": {
   "display_name": "Python 3 (ipykernel)",
   "language": "python",
   "name": "python3"
  },
  "language_info": {
   "codemirror_mode": {
    "name": "ipython",
    "version": 3
   },
   "file_extension": ".py",
   "mimetype": "text/x-python",
   "name": "python",
   "nbconvert_exporter": "python",
   "pygments_lexer": "ipython3",
   "version": "3.9.12"
  }
 },
 "nbformat": 4,
 "nbformat_minor": 5
}
