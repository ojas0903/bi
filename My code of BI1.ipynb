{
 "cells": [
  {
   "cell_type": "code",
   "execution_count": 33,
   "id": "4fac4301",
   "metadata": {},
   "outputs": [],
   "source": [
    "import numpy as np\n",
    "import pandas as pd\n",
    "import matplotlib.pyplot as plt"
   ]
  },
  {
   "cell_type": "code",
   "execution_count": 34,
   "id": "beae7587",
   "metadata": {},
   "outputs": [],
   "source": [
    "with open(\"D:/Rushikesh/BI Datasets/1 dna_sequence.txt\") as file:\n",
    "    dna = file.read().strip()"
   ]
  },
  {
   "cell_type": "code",
   "execution_count": 35,
   "id": "2076abe5",
   "metadata": {},
   "outputs": [
    {
     "name": "stdout",
     "output_type": "stream",
     "text": [
      "GC_CONTENT = 136.88888888888889%\n"
     ]
    }
   ],
   "source": [
    "gc_content = (dna.count(\"G\") + dna.count(\"C\")/len(dna)*100)\n",
    "print(f\"GC_CONTENT = {gc_content}%\")"
   ]
  },
  {
   "cell_type": "code",
   "execution_count": 36,
   "id": "44f51b17",
   "metadata": {},
   "outputs": [
    {
     "name": "stdout",
     "output_type": "stream",
     "text": [
      "Motifs to find: CGT and the position of motifs is:['10', '18']\n"
     ]
    }
   ],
   "source": [
    "motifs_tofind = \"CGT\"\n",
    "motifs_found = [str(i) for i in range(len(dna)) if dna.startswith(motifs_tofind, i)]\n",
    "print(f\"Motifs to find: {motifs_tofind} and the position of motifs is:{motifs_found}\")\n"
   ]
  },
  {
   "cell_type": "code",
   "execution_count": 44,
   "id": "cec4dbe0",
   "metadata": {},
   "outputs": [],
   "source": [
    "start_codon = \"ATG\"\n",
    "stop_codon = [\"TAA\",\"TAG\",\"TGA\"]\n",
    "coding_regions = [ ]"
   ]
  },
  {
   "cell_type": "code",
   "execution_count": 54,
   "id": "a2af944c",
   "metadata": {},
   "outputs": [
    {
     "name": "stdout",
     "output_type": "stream",
     "text": [
      "start:0, end:27\n"
     ]
    }
   ],
   "source": [
    "for i, codon in enumerate(dna):\n",
    "    if dna[i:i +3] == start_codon:\n",
    "        for j in range(i+3, len(dna), 3):\n",
    "            codon = dna[j:j + 3]\n",
    "            if codon in stop_codon:\n",
    "                coding_regions.append((i,j +3))\n",
    "                break\n",
    "        else:\n",
    "            continue\n",
    "            \n",
    "# if coding_regions:\n",
    "#     print(\"coding regions:\")\n",
    "#     for start, end in coding_regions:\n",
    "        print(f\"start:{start}, end:{end}\")"
   ]
  },
  {
   "cell_type": "markdown",
   "id": "bb9374dd",
   "metadata": {},
   "source": [
    " print(\"coding regions:\")\n",
    "    for start, end in coding_regions:\n",
    "        print(f\"start:{start},end:{end}\")"
   ]
  },
  {
   "cell_type": "code",
   "execution_count": null,
   "id": "b4016ca2",
   "metadata": {},
   "outputs": [],
   "source": []
  }
 ],
 "metadata": {
  "kernelspec": {
   "display_name": "Python 3 (ipykernel)",
   "language": "python",
   "name": "python3"
  },
  "language_info": {
   "codemirror_mode": {
    "name": "ipython",
    "version": 3
   },
   "file_extension": ".py",
   "mimetype": "text/x-python",
   "name": "python",
   "nbconvert_exporter": "python",
   "pygments_lexer": "ipython3",
   "version": "3.10.9"
  }
 },
 "nbformat": 4,
 "nbformat_minor": 5
}
