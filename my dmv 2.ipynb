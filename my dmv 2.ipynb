{
 "cells": [
  {
   "cell_type": "code",
   "execution_count": null,
   "id": "aae99227",
   "metadata": {},
   "outputs": [],
   "source": [
    "import requests \n",
    "import pandas as pd \n",
    "import json\n",
    "import matplotlib.pyplot as plt\n",
    "import seaborn as sns\n",
    "\n",
    "API_key = 'ae946579a75ffecd1a328af97c783961'\n",
    "\n",
    "countries = ['Jamaica', 'Indonesia', 'United States',  \"Turkey\", 'Saudi Arabia' , \"Egypt\", 'China']\n",
    "\n",
    "country_name_list = []\n",
    "maxtemp = []\n",
    "mintemp = []\n",
    "humidity = []\n",
    "windspeed = []\n",
    "\n",
    "for country_names in countries:\n",
    "\n",
    "    url = f'http://api.openweathermap.org/data/2.5/weather?q={country_names}&APPID={API_key}&units=metric'\n",
    "    \n",
    "    r = requests.get(url)\n",
    "        \n",
    "    data = r.json()\n",
    "        \n",
    "    formatted_json = json.dumps(data, sort_keys = True, indent = 4)\n",
    "    \n",
    "#     print(data)\n",
    "    country_name_list.append(data['name'])\n",
    "    maxtemp.append(data['main']['temp_max'])\n",
    "    mintemp.append(data['main']['temp_min'])\n",
    "    humidity.append(data['main']['humidity'])\n",
    "    windspeed.append(data['wind']['speed'])\n",
    "            \n",
    "\n",
    "df = pd.DataFrame()\n",
    "df['Names'] = country_name_list\n",
    "df['Max_Temp'] = maxtemp\n",
    "df['Min_Temp'] = mintemp\n",
    "df['Humidity'] = humidity\n",
    "df['WindSpeed'] = windspeed\n",
    "\n",
    "df.head()    "
   ]
  },
  {
   "cell_type": "code",
   "execution_count": null,
   "id": "21d1166a",
   "metadata": {},
   "outputs": [],
   "source": [
    "df.isnull().sum()"
   ]
  },
  {
   "cell_type": "code",
   "execution_count": null,
   "id": "7ec9217f",
   "metadata": {},
   "outputs": [],
   "source": [
    "df.duplicated()"
   ]
  },
  {
   "cell_type": "code",
   "execution_count": null,
   "id": "75bf3833",
   "metadata": {},
   "outputs": [],
   "source": [
    "df.duplicated().sum()"
   ]
  },
  {
   "cell_type": "code",
   "execution_count": null,
   "id": "6db330bf",
   "metadata": {},
   "outputs": [],
   "source": [
    "df.describe()"
   ]
  },
  {
   "cell_type": "code",
   "execution_count": null,
   "id": "eef2d421",
   "metadata": {},
   "outputs": [],
   "source": [
    "df.info()"
   ]
  },
  {
   "cell_type": "code",
   "execution_count": null,
   "id": "c03a289a",
   "metadata": {},
   "outputs": [],
   "source": [
    "plt.figure(figsize=(13,6))\n",
    "plt.bar(df['Names'], df['Max_Temp'], color='crimson')\n",
    "plt.title(\"Max Temperature in different countries\")\n",
    "plt.ylabel(\"Temperature\")\n",
    "# plt.show()"
   ]
  },
  {
   "cell_type": "code",
   "execution_count": null,
   "id": "e4b670fb",
   "metadata": {},
   "outputs": [],
   "source": [
    "plt.figure(figsize=(12,6))\n",
    "plt.bar(df['Names'], df['Max_Temp'], color='')\n",
    "plt.title(\"Max Temperature in different countries\")\n",
    "plt.ylabel(\"Temperature\")\n",
    "# plt.show()"
   ]
  },
  {
   "cell_type": "code",
   "execution_count": null,
   "id": "ef100865",
   "metadata": {},
   "outputs": [],
   "source": []
  }
 ],
 "metadata": {
  "kernelspec": {
   "display_name": "Python 3 (ipykernel)",
   "language": "python",
   "name": "python3"
  },
  "language_info": {
   "codemirror_mode": {
    "name": "ipython",
    "version": 3
   },
   "file_extension": ".py",
   "mimetype": "text/x-python",
   "name": "python",
   "nbconvert_exporter": "python",
   "pygments_lexer": "ipython3",
   "version": "3.9.12"
  }
 },
 "nbformat": 4,
 "nbformat_minor": 5
}
